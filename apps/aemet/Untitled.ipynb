{
 "cells": [
  {
   "cell_type": "code",
   "execution_count": 1,
   "id": "15588507",
   "metadata": {},
   "outputs": [
    {
     "data": {
      "text/plain": [
       "\u001b[32mimport \u001b[39m\u001b[36m$ivy.$                             \u001b[39m"
      ]
     },
     "execution_count": 1,
     "metadata": {},
     "output_type": "execute_result"
    }
   ],
   "source": [
    "import $ivy.`com.chuusai::shapeless:2.3.3`"
   ]
  },
  {
   "cell_type": "code",
   "execution_count": 26,
   "id": "3e414dd5",
   "metadata": {},
   "outputs": [
    {
     "data": {
      "text/plain": [
       "\u001b[32mimport \u001b[39m\u001b[36mshapeless._\n",
       "\n",
       "\u001b[39m\n",
       "\u001b[32mimport \u001b[39m\u001b[36mops.record._\n",
       "\u001b[39m\n",
       "\u001b[32mimport \u001b[39m\u001b[36mrecord._\n",
       "\u001b[39m\n",
       "\u001b[32mimport \u001b[39m\u001b[36msyntax.singleton._\n",
       "\u001b[39m\n",
       "\u001b[32mimport \u001b[39m\u001b[36mtest._\n",
       "\u001b[39m\n",
       "\u001b[32mimport \u001b[39m\u001b[36munion._\u001b[39m"
      ]
     },
     "execution_count": 26,
     "metadata": {},
     "output_type": "execute_result"
    }
   ],
   "source": [
    "import shapeless._\n",
    "\n",
    "import ops.record._\n",
    "import record._\n",
    "import syntax.singleton._\n",
    "import test._\n",
    "import union._"
   ]
  },
  {
   "cell_type": "code",
   "execution_count": 32,
   "id": "a06a65a2",
   "metadata": {},
   "outputs": [
    {
     "data": {
      "text/plain": [
       "defined \u001b[32mclass\u001b[39m \u001b[36mBook\u001b[39m\n",
       "defined \u001b[32mclass\u001b[39m \u001b[36mExtendedBook\u001b[39m\n",
       "defined \u001b[32mclass\u001b[39m \u001b[36mBookWithMultipleAuthors\u001b[39m\n",
       "\u001b[36mtapl\u001b[39m: \u001b[32mBook\u001b[39m = \u001b[33mBook\u001b[39m(\n",
       "  author = \u001b[32m\"Benjamin Pierce\"\u001b[39m,\n",
       "  title = \u001b[32m\"Types and Programming Languages\"\u001b[39m,\n",
       "  id = \u001b[32m262162091\u001b[39m,\n",
       "  price = \u001b[32m44.11\u001b[39m\n",
       ")\n",
       "\u001b[36mtapl2\u001b[39m: \u001b[32mBook\u001b[39m = \u001b[33mBook\u001b[39m(\n",
       "  author = \u001b[32m\"Benjamin Pierce\"\u001b[39m,\n",
       "  title = \u001b[32m\"Types and Programming Languages (2nd Ed.)\"\u001b[39m,\n",
       "  id = \u001b[32m262162091\u001b[39m,\n",
       "  price = \u001b[32m46.11\u001b[39m\n",
       ")\n",
       "\u001b[36mtaplExt\u001b[39m: \u001b[32mExtendedBook\u001b[39m = \u001b[33mExtendedBook\u001b[39m(\n",
       "  author = \u001b[32m\"Benjamin Pierce\"\u001b[39m,\n",
       "  title = \u001b[32m\"Types and Programming Languages\"\u001b[39m,\n",
       "  id = \u001b[32m262162091\u001b[39m,\n",
       "  price = \u001b[32m44.11\u001b[39m,\n",
       "  inPrint = \u001b[32mtrue\u001b[39m\n",
       ")\n",
       "\u001b[36mdp\u001b[39m: \u001b[32mBookWithMultipleAuthors\u001b[39m = \u001b[33mBookWithMultipleAuthors\u001b[39m(\n",
       "  title = \u001b[32m\"Design Patterns\"\u001b[39m,\n",
       "  id = \u001b[32m201633612\u001b[39m,\n",
       "  authors = \u001b[33mArraySeq\u001b[39m(\n",
       "    \u001b[32m\"Erich Gamma\"\u001b[39m,\n",
       "    \u001b[32m\"Richard Helm\"\u001b[39m,\n",
       "    \u001b[32m\"Ralph Johnson\"\u001b[39m,\n",
       "    \u001b[32m\"John Vlissides\"\u001b[39m\n",
       "  )\n",
       ")\n",
       "\u001b[36mtaplRecord\u001b[39m: \u001b[32mString\u001b[39m with \u001b[32mlabelled\u001b[39m.\u001b[32mKeyTag\u001b[39m[\u001b[32mSymbol\u001b[39m with \u001b[32mtag\u001b[39m.\u001b[32mTagged\u001b[39m[\u001b[32m\"author\"\u001b[39m], \u001b[32mString\u001b[39m] \u001b[32m::\u001b[39m \u001b[32mString\u001b[39m with \u001b[32mlabelled\u001b[39m.\u001b[32mKeyTag\u001b[39m[\u001b[32mSymbol\u001b[39m with \u001b[32mtag\u001b[39m.\u001b[32mTagged\u001b[39m[\u001b[32m\"title\"\u001b[39m], \u001b[32mString\u001b[39m] \u001b[32m::\u001b[39m \u001b[32mInt\u001b[39m with \u001b[32mlabelled\u001b[39m.\u001b[32mKeyTag\u001b[39m[\u001b[32mSymbol\u001b[39m with \u001b[32mtag\u001b[39m.\u001b[32mTagged\u001b[39m[\u001b[32m\"id\"\u001b[39m], \u001b[32mInt\u001b[39m] \u001b[32m::\u001b[39m \u001b[32mDouble\u001b[39m with \u001b[32mlabelled\u001b[39m.\u001b[32mKeyTag\u001b[39m[\u001b[32mSymbol\u001b[39m with \u001b[32mtag\u001b[39m.\u001b[32mTagged\u001b[39m[\u001b[32m\"price\"\u001b[39m], \u001b[32mDouble\u001b[39m] \u001b[32m::\u001b[39m \u001b[32mHNil\u001b[39m = \u001b[32m\"Benjamin Pierce\"\u001b[39m :: \u001b[32m\"Types and Programming Languages\"\u001b[39m :: \u001b[32m262162091\u001b[39m :: \u001b[32m44.11\u001b[39m :: HNil\n",
       "\u001b[36mdpRecord\u001b[39m: \u001b[32mString\u001b[39m with \u001b[32mlabelled\u001b[39m.\u001b[32mKeyTag\u001b[39m[\u001b[32mSymbol\u001b[39m with \u001b[32mtag\u001b[39m.\u001b[32mTagged\u001b[39m[\u001b[32m\"title\"\u001b[39m], \u001b[32mString\u001b[39m] \u001b[32m::\u001b[39m \u001b[32mInt\u001b[39m with \u001b[32mlabelled\u001b[39m.\u001b[32mKeyTag\u001b[39m[\u001b[32mSymbol\u001b[39m with \u001b[32mtag\u001b[39m.\u001b[32mTagged\u001b[39m[\u001b[32m\"id\"\u001b[39m], \u001b[32mInt\u001b[39m] \u001b[32m::\u001b[39m \u001b[32mSeq\u001b[39m[\u001b[32mString\u001b[39m] with \u001b[32mlabelled\u001b[39m.\u001b[32mKeyTag\u001b[39m[\u001b[32mSymbol\u001b[39m with \u001b[32mtag\u001b[39m.\u001b[32mTagged\u001b[39m[\u001b[32m\"authors\"\u001b[39m], \u001b[32mSeq\u001b[39m[\u001b[32mString\u001b[39m]] \u001b[32m::\u001b[39m \u001b[32mHNil\u001b[39m = \u001b[32m\"Design Patterns\"\u001b[39m :: \u001b[32m201633612\u001b[39m :: \u001b[33mList\u001b[39m(\u001b[32m\"Erich Gamma\"\u001b[39m, \u001b[32m\"Richard Helm\"\u001b[39m, \u001b[32m\"Ralph Johnson\"\u001b[39m, \u001b[32m\"John Vlissides\"\u001b[39m) :: HNil\n",
       "defined \u001b[32mtype\u001b[39m \u001b[36mBookRec\u001b[39m\n",
       "defined \u001b[32mtype\u001b[39m \u001b[36mBookKeys\u001b[39m\n",
       "defined \u001b[32mtype\u001b[39m \u001b[36mBookValues\u001b[39m\n",
       "defined \u001b[32mtype\u001b[39m \u001b[36mBookWithMultipleAuthorsRec\u001b[39m"
      ]
     },
     "execution_count": 32,
     "metadata": {},
     "output_type": "execute_result"
    }
   ],
   "source": [
    "  case class Book(author: String, title: String, id: Int, price: Double)\n",
    "  case class ExtendedBook(author: String, title: String, id: Int, price: Double, inPrint: Boolean)\n",
    "  case class BookWithMultipleAuthors(title: String, id: Int, authors: String*)\n",
    "\n",
    "  val tapl = Book(\"Benjamin Pierce\", \"Types and Programming Languages\", 262162091, 44.11)\n",
    "  val tapl2 = Book(\"Benjamin Pierce\", \"Types and Programming Languages (2nd Ed.)\", 262162091, 46.11)\n",
    "  val taplExt = ExtendedBook(\"Benjamin Pierce\", \"Types and Programming Languages\", 262162091, 44.11, true)\n",
    "  val dp = BookWithMultipleAuthors(\n",
    "    \"Design Patterns\", 201633612,\n",
    "    \"Erich Gamma\", \"Richard Helm\", \"Ralph Johnson\", \"John Vlissides\"\n",
    "  )\n",
    "\n",
    "  val taplRecord =\n",
    "    ('author ->> \"Benjamin Pierce\") ::\n",
    "    ('title  ->> \"Types and Programming Languages\") ::\n",
    "    ('id     ->>  262162091) ::\n",
    "    ('price  ->>  44.11) ::\n",
    "    HNil\n",
    "\n",
    "  val dpRecord =\n",
    "    ('title   ->> \"Design Patterns\") ::\n",
    "    ('id      ->> 201633612) ::\n",
    "    ('authors ->> Seq(\"Erich Gamma\", \"Richard Helm\", \"Ralph Johnson\", \"John Vlissides\")) ::\n",
    "    HNil\n",
    "\n",
    "  type BookRec = Record.`'author -> String, 'title -> String, 'id -> Int, 'price -> Double`.T\n",
    "  type BookKeys = Keys[BookRec]\n",
    "  type BookValues = Values[BookRec]\n",
    "\n",
    "  type BookWithMultipleAuthorsRec = Record.`'title -> String, 'id -> Int, 'authors -> Seq[String]`.T\n"
   ]
  },
  {
   "cell_type": "code",
   "execution_count": 33,
   "id": "b9d7a431",
   "metadata": {},
   "outputs": [
    {
     "data": {
      "text/plain": [
       "\u001b[36mgen\u001b[39m: \u001b[32mLabelledGeneric\u001b[39m[\u001b[32mBook\u001b[39m]{type Repr = String with shapeless.labelled.KeyTag[Symbol with shapeless.tag.Tagged[String(\"author\")],String] :: String with shapeless.labelled.KeyTag[Symbol with shapeless.tag.Tagged[String(\"title\")],String] :: Int with shapeless.labelled.KeyTag[Symbol with shapeless.tag.Tagged[String(\"id\")],Int] :: Double with shapeless.labelled.KeyTag[Symbol with shapeless.tag.Tagged[String(\"price\")],Double] :: shapeless.HNil} = shapeless.LabelledGeneric$$anon$1@74ca681e\n",
       "\u001b[36mb0\u001b[39m: \u001b[32mgen\u001b[39m.\u001b[32mRepr\u001b[39m = \u001b[32m\"Benjamin Pierce\"\u001b[39m :: \u001b[32m\"Types and Programming Languages\"\u001b[39m :: \u001b[32m262162091\u001b[39m :: \u001b[32m44.11\u001b[39m :: HNil"
      ]
     },
     "execution_count": 33,
     "metadata": {},
     "output_type": "execute_result"
    }
   ],
   "source": [
    "val gen = LabelledGeneric[Book]\n",
    "val b0 = gen.to(tapl)"
   ]
  },
  {
   "cell_type": "code",
   "execution_count": 34,
   "id": "59a91e92",
   "metadata": {},
   "outputs": [
    {
     "data": {
      "text/plain": [
       "\u001b[36mres33\u001b[39m: \u001b[32mBoolean\u001b[39m = \u001b[32mtrue\u001b[39m"
      ]
     },
     "execution_count": 34,
     "metadata": {},
     "output_type": "execute_result"
    }
   ],
   "source": [
    "taplRecord == b0"
   ]
  },
  {
   "cell_type": "code",
   "execution_count": 35,
   "id": "9489ffcd",
   "metadata": {},
   "outputs": [
    {
     "data": {
      "text/plain": [
       "defined \u001b[32mfunction\u001b[39m \u001b[36mtyped\u001b[39m"
      ]
     },
     "execution_count": 35,
     "metadata": {},
     "output_type": "execute_result"
    }
   ],
   "source": [
    " def typed[T](t : => T): Unit = {}"
   ]
  },
  {
   "cell_type": "code",
   "execution_count": 36,
   "id": "7bdc6ae4",
   "metadata": {},
   "outputs": [],
   "source": [
    "typed[BookRec](b0)"
   ]
  },
  {
   "cell_type": "code",
   "execution_count": 37,
   "id": "6fb7ffe6",
   "metadata": {},
   "outputs": [
    {
     "data": {
      "text/plain": [
       "\u001b[36mt\u001b[39m: \u001b[32mBookRec\u001b[39m = \u001b[32m\"Benjamin Pierce\"\u001b[39m :: \u001b[32m\"Types and Programming Languages\"\u001b[39m :: \u001b[32m262162091\u001b[39m :: \u001b[32m44.11\u001b[39m :: HNil"
      ]
     },
     "execution_count": 37,
     "metadata": {},
     "output_type": "execute_result"
    }
   ],
   "source": [
    "val t: BookRec = b0"
   ]
  },
  {
   "cell_type": "code",
   "execution_count": 38,
   "id": "eb2504b2",
   "metadata": {},
   "outputs": [
    {
     "data": {
      "text/plain": [
       "\u001b[36mres37\u001b[39m: \u001b[32mSymbol\u001b[39m with \u001b[32mtag\u001b[39m.\u001b[32mTagged\u001b[39m[\u001b[32m\"author\"\u001b[39m] \u001b[32m::\u001b[39m \u001b[32mSymbol\u001b[39m with \u001b[32mtag\u001b[39m.\u001b[32mTagged\u001b[39m[\u001b[32m\"title\"\u001b[39m] \u001b[32m::\u001b[39m \u001b[32mSymbol\u001b[39m with \u001b[32mtag\u001b[39m.\u001b[32mTagged\u001b[39m[\u001b[32m\"id\"\u001b[39m] \u001b[32m::\u001b[39m \u001b[32mSymbol\u001b[39m with \u001b[32mtag\u001b[39m.\u001b[32mTagged\u001b[39m[\u001b[32m\"price\"\u001b[39m] \u001b[32m::\u001b[39m \u001b[32mHNil\u001b[39m = \u001b[32m'author\u001b[39m :: \u001b[32m'title\u001b[39m :: \u001b[32m'id\u001b[39m :: \u001b[32m'price\u001b[39m :: HNil"
      ]
     },
     "execution_count": 38,
     "metadata": {},
     "output_type": "execute_result"
    }
   ],
   "source": [
    "b0.keys"
   ]
  },
  {
   "cell_type": "code",
   "execution_count": 40,
   "id": "83b56783",
   "metadata": {},
   "outputs": [
    {
     "data": {
      "text/plain": [
       "\u001b[36mres39\u001b[39m: \u001b[32mBoolean\u001b[39m = \u001b[32mtrue\u001b[39m"
      ]
     },
     "execution_count": 40,
     "metadata": {},
     "output_type": "execute_result"
    }
   ],
   "source": [
    "b0.keys == 'author :: 'title :: 'id :: 'price :: HNil"
   ]
  },
  {
   "cell_type": "code",
   "execution_count": 41,
   "id": "a6d0992e",
   "metadata": {},
   "outputs": [
    {
     "data": {
      "text/plain": [
       "\u001b[36mres40\u001b[39m: \u001b[32mSymbol\u001b[39m with \u001b[32mtag\u001b[39m.\u001b[32mTagged\u001b[39m[\u001b[32m\"author\"\u001b[39m] = \u001b[32m'author\u001b[39m"
      ]
     },
     "execution_count": 41,
     "metadata": {},
     "output_type": "execute_result"
    }
   ],
   "source": [
    "'author.narrow"
   ]
  },
  {
   "cell_type": "code",
   "execution_count": 42,
   "id": "746e4763",
   "metadata": {},
   "outputs": [
    {
     "data": {
      "text/plain": [
       "\u001b[36mres41\u001b[39m: \u001b[32mString\u001b[39m = \u001b[32m\"Types and Programming Languages\"\u001b[39m"
      ]
     },
     "execution_count": 42,
     "metadata": {},
     "output_type": "execute_result"
    }
   ],
   "source": [
    "b0.get('title)"
   ]
  },
  {
   "cell_type": "code",
   "execution_count": null,
   "id": "45e67977",
   "metadata": {},
   "outputs": [],
   "source": []
  }
 ],
 "metadata": {
  "kernelspec": {
   "display_name": "Scala",
   "language": "scala",
   "name": "scala"
  },
  "language_info": {
   "codemirror_mode": "text/x-scala",
   "file_extension": ".sc",
   "mimetype": "text/x-scala",
   "name": "scala",
   "nbconvert_exporter": "script",
   "version": "2.13.10"
  }
 },
 "nbformat": 4,
 "nbformat_minor": 5
}
